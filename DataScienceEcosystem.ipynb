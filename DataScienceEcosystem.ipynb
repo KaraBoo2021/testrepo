{
 "cells": [
  {
   "cell_type": "markdown",
   "id": "5dfe5f9e-8250-4de0-8747-30f5f42d2d59",
   "metadata": {},
   "source": [
    "# Heading 1"
   ]
  },
  {
   "cell_type": "markdown",
   "id": "0cfdcd52-3cd4-4b6f-9e48-a41d98c10bf0",
   "metadata": {},
   "source": [
    "In this notebook, Data Science Tools and Ecosystem are summarized."
   ]
  },
  {
   "cell_type": "markdown",
   "id": "765e9af8-a756-4a5e-ad5c-157b2275e89e",
   "metadata": {
    "tags": []
   },
   "source": [
    "__Objectives__\n",
    "* Create markdown and code cells\n",
    "* Learn popular languages\n",
    "* Learn commonly used libraries\n",
    "* Practice a basic arithmetic expression"
   ]
  },
  {
   "cell_type": "markdown",
   "id": "f97ba233-7db5-4047-a33b-ea316d2d9387",
   "metadata": {},
   "source": [
    "Some of the popular languages that data scientists use are:\n",
    "* Python\n",
    "* R\n",
    "* C++"
   ]
  },
  {
   "cell_type": "markdown",
   "id": "0b56fd3e-58bc-41d1-9184-9523bf8159e5",
   "metadata": {},
   "source": [
    "Some of the commonly used libraries used by data scientists include (python):\n",
    "* SciPy\n",
    "* Pandas\n",
    "* NumPy\n"
   ]
  },
  {
   "cell_type": "markdown",
   "id": "a0617946-d21d-4932-ab1a-fe0aa39173c3",
   "metadata": {},
   "source": [
    "|Development Environment Tools|\n",
    "|------------------------------|\n",
    "|RStudio|\n",
    "|Apache Spark|\n",
    "|TensorFlow|\n"
   ]
  },
  {
   "cell_type": "markdown",
   "id": "1621295e-de54-4902-b595-1aa5a25e828e",
   "metadata": {
    "tags": []
   },
   "source": [
    "### Below are a few examples of evaluating arithmetic expressions in Python"
   ]
  },
  {
   "cell_type": "code",
   "execution_count": 2,
   "id": "7999e2d2-c2d6-4b45-9d83-62da07df6fee",
   "metadata": {
    "tags": []
   },
   "outputs": [
    {
     "data": {
      "text/plain": [
       "17"
      ]
     },
     "execution_count": 2,
     "metadata": {},
     "output_type": "execute_result"
    }
   ],
   "source": [
    "(3*4)+5\n",
    "# this is a simple arithmetic expression to multiply then add integers"
   ]
  },
  {
   "cell_type": "code",
   "execution_count": 4,
   "id": "2ecfafe3-d87e-44b4-b918-190646f631a6",
   "metadata": {
    "tags": []
   },
   "outputs": [
    {
     "name": "stdout",
     "output_type": "stream",
     "text": [
      "3.3333333333333335\n"
     ]
    }
   ],
   "source": [
    "minutes = 200\n",
    "hours = minutes/60\n",
    "# this will convert 200 minutes to hours by dividing by 60\n",
    "print(hours)"
   ]
  },
  {
   "cell_type": "markdown",
   "id": "c4b154b1-83fc-4fc2-bdb0-436e4e6d59f4",
   "metadata": {},
   "source": [
    "## Author:\n",
    "Kara Montellano"
   ]
  },
  {
   "cell_type": "code",
   "execution_count": null,
   "id": "163a1d78-39ef-4307-8749-be8fdbf145a5",
   "metadata": {},
   "outputs": [],
   "source": []
  }
 ],
 "metadata": {
  "kernelspec": {
   "display_name": "Python",
   "language": "python",
   "name": "conda-env-python-py"
  },
  "language_info": {
   "codemirror_mode": {
    "name": "ipython",
    "version": 3
   },
   "file_extension": ".py",
   "mimetype": "text/x-python",
   "name": "python",
   "nbconvert_exporter": "python",
   "pygments_lexer": "ipython3",
   "version": "3.7.12"
  }
 },
 "nbformat": 4,
 "nbformat_minor": 5
}
